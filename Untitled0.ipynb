{
  "nbformat": 4,
  "nbformat_minor": 0,
  "metadata": {
    "colab": {
      "provenance": []
    },
    "kernelspec": {
      "name": "python3",
      "display_name": "Python 3"
    },
    "language_info": {
      "name": "python"
    }
  },
  "cells": [
    {
      "cell_type": "code",
      "execution_count": null,
      "metadata": {
        "id": "WjHw0oyureBj"
      },
      "outputs": [],
      "source": []
    },
    {
      "cell_type": "markdown",
      "source": [
        "# PYTHON BASICS QUESTIONS\n"
      ],
      "metadata": {
        "id": "el5AequprkQB"
      }
    },
    {
      "cell_type": "markdown",
      "source": [
        "1. What is Python, and why is it popular?\n",
        "    \n",
        "    -> Python is a high level\n",
        "    "
      ],
      "metadata": {
        "id": "4p69gN-bsNzv"
      }
    },
    {
      "cell_type": "markdown",
      "source": [],
      "metadata": {
        "id": "1EenDbUVtM3w"
      }
    },
    {
      "cell_type": "markdown",
      "source": [],
      "metadata": {
        "id": "tmf-YVoZtJAT"
      }
    },
    {
      "cell_type": "markdown",
      "source": [
        "2.What is interpreter in python?\n",
        "\n",
        " -> jnlkgmblkjhf\n",
        ""
      ],
      "metadata": {
        "id": "X_mEHvGsuoiD"
      }
    },
    {
      "cell_type": "code",
      "source": [
        "# create a program\n"
      ],
      "metadata": {
        "id": "h4CK4ZqRu06f"
      },
      "execution_count": null,
      "outputs": []
    }
  ]
}